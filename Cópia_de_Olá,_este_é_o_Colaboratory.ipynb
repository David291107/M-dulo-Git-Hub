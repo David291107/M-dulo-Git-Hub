{
  "cells": [
    {
      "cell_type": "code",
      "source": [
        "olá esse aarquivo é para teste do GIT HUB\n"
      ],
      "metadata": {
        "colab": {
          "base_uri": "https://localhost:8080/"
        },
        "id": "nyHlIYJs4jqF",
        "outputId": "36c389f9-9794-4560-cf83-1e0a43c90b93"
      },
      "execution_count": null,
      "outputs": [
        {
          "output_type": "stream",
          "name": "stdout",
          "text": [
            "olá meu nome é David e, serei um ótimo cientista de dados brevemente\n"
          ]
        }
      ]
    },
    {
      "cell_type": "markdown",
      "source": [],
      "metadata": {
        "id": "iACsG3eCLIzO"
      }
    },
    {
      "cell_type": "code",
      "source": [],
      "metadata": {
        "id": "AFEoSzx2LJTu"
      },
      "execution_count": null,
      "outputs": []
    }
  ],
  "metadata": {
    "colab": {
      "provenance": []
    },
    "kernelspec": {
      "display_name": "Python 3",
      "name": "python3"
    }
  },
  "nbformat": 4,
  "nbformat_minor": 0
}